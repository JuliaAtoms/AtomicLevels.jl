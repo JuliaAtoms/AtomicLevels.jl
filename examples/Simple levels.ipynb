{
 "cells": [
  {
   "cell_type": "code",
   "execution_count": 1,
   "metadata": {
    "collapsed": false
   },
   "outputs": [],
   "source": [
    "using AtomicLevels"
   ]
  },
  {
   "cell_type": "markdown",
   "metadata": {},
   "source": [
    "# Example usage\n",
    "\n",
    "## Electron configurations\n",
    "\n",
    "A configuration is represented as a vector of orbitals and can be generated from the standard string representation:"
   ]
  },
  {
   "cell_type": "code",
   "execution_count": 2,
   "metadata": {
    "collapsed": false
   },
   "outputs": [
    {
     "data": {
      "text/latex": [
       "$\\mathrm{1s^{2}}$"
      ],
      "text/plain": [
       "1-element Array{Tuple{I<:Integer,I<:Integer,I<:Integer,S<:AbstractString},1}:\n",
       " 1s²"
      ]
     },
     "execution_count": 2,
     "metadata": {},
     "output_type": "execute_result"
    }
   ],
   "source": [
    "c = c\"1s2\""
   ]
  },
  {
   "cell_type": "code",
   "execution_count": 3,
   "metadata": {
    "collapsed": false
   },
   "outputs": [
    {
     "name": "stdout",
     "output_type": "stream",
     "text": [
      "Array{Tuple{I<:Integer,I<:Integer,I<:Integer,S<:AbstractString}}((1,))\n",
      "  1: Tuple{Int64,Int64,Int64,String}\n",
      "    1: Int64 1\n",
      "    2: Int64 0\n",
      "    3: Int64 2\n",
      "    4: String \"*\"\n"
     ]
    }
   ],
   "source": [
    "dump(c)"
   ]
  },
  {
   "cell_type": "markdown",
   "metadata": {},
   "source": [
    "The fourth value (`String \"*\"` above) represents some ‘status’ of that orbital, useful for e.g. freezing. `*` means ‘active orbital’. If specifying a configuration using core notation, the core is frozen by default."
   ]
  },
  {
   "cell_type": "code",
   "execution_count": 4,
   "metadata": {
    "collapsed": false
   },
   "outputs": [
    {
     "data": {
      "text/latex": [
       "$\\mathrm{[He]^{c} 3s^{2}}$"
      ],
      "text/plain": [
       "2-element Array{Tuple{I<:Integer,I<:Integer,I<:Integer,S<:AbstractString},1}:\n",
       " 1s²ᶜ\n",
       " 3s² "
      ]
     },
     "execution_count": 4,
     "metadata": {},
     "output_type": "execute_result"
    }
   ],
   "source": [
    "c = c\"[He] 3s2\""
   ]
  },
  {
   "cell_type": "markdown",
   "metadata": {},
   "source": [
    "The superscript c denotes ‘closed’."
   ]
  },
  {
   "cell_type": "code",
   "execution_count": 5,
   "metadata": {
    "collapsed": false
   },
   "outputs": [
    {
     "name": "stdout",
     "output_type": "stream",
     "text": [
      "Array{Tuple{I<:Integer,I<:Integer,I<:Integer,S<:AbstractString}}((2,))\n",
      "  1: Tuple{Int64,Int64,Int64,SubString{String}}\n",
      "    1: Int64 1\n",
      "    2: Int64 0\n",
      "    3: Int64 2\n",
      "    4: SubString{String}\n",
      "      string: String \"1s2c\"\n",
      "      offset: Int64 3\n",
      "      endof: Int64 1\n",
      "  2: Tuple{Int64,Int64,Int64,String}\n",
      "    1: Int64 3\n",
      "    2: Int64 0\n",
      "    3: Int64 2\n",
      "    4: String \"*\"\n"
     ]
    }
   ],
   "source": [
    "dump(c)"
   ]
  },
  {
   "cell_type": "markdown",
   "metadata": {},
   "source": [
    "To have an open core, explicitly state thus:"
   ]
  },
  {
   "cell_type": "code",
   "execution_count": 6,
   "metadata": {
    "collapsed": false
   },
   "outputs": [
    {
     "data": {
      "text/latex": [
       "$\\mathrm{[Ar] 4s^{2} 4p^{5}}$"
      ],
      "text/plain": [
       "7-element Array{Tuple{I<:Integer,I<:Integer,I<:Integer,S<:AbstractString},1}:\n",
       " 1s²\n",
       " 2s²\n",
       " 2p⁶\n",
       " 3s²\n",
       " 3p⁶\n",
       " 4s²\n",
       " 4p⁵"
      ]
     },
     "execution_count": 6,
     "metadata": {},
     "output_type": "execute_result"
    }
   ],
   "source": [
    "c = c\"[Ar]* 4s2 4p5\""
   ]
  },
  {
   "cell_type": "markdown",
   "metadata": {},
   "source": [
    "## Term symbols\n",
    "In $LS$ coupling, all orbital angular momenta $\\ell_i$ couple to form $L$, and all spin angular momenta $s_i$ couple to form $S$. For more than two electrons, the algorithm for finding all permissible term symbols $^{2S+1}L$ is non-trivial. AtomicLevels.jl implements the algorithm described by Xu Renjun and Dai Zhenwen ([JPhys B, 2006](http://dx.doi.org/10.1088/0953-4075/39/16/007))."
   ]
  },
  {
   "cell_type": "code",
   "execution_count": 7,
   "metadata": {
    "collapsed": false
   },
   "outputs": [
    {
     "data": {
      "text/latex": [
       "$[\\mathrm{^{2}P^o}]$"
      ],
      "text/plain": [
       "1-element Array{AtomicLevels.Term,1}:\n",
       " ²Pᵒ"
      ]
     },
     "execution_count": 7,
     "metadata": {},
     "output_type": "execute_result"
    }
   ],
   "source": [
    "terms(c)"
   ]
  },
  {
   "cell_type": "markdown",
   "metadata": {},
   "source": [
    "## Levels\n",
    "Finally, $L$ and $S$ may couple to form a total $J$, fulfilling $|L-S|\\leq J\\leq L+S$:"
   ]
  },
  {
   "cell_type": "code",
   "execution_count": 8,
   "metadata": {
    "collapsed": false
   },
   "outputs": [
    {
     "data": {
      "text/latex": [
       "$[\\mathrm{|[Ar] 4s^{2} 4p^{5}\\;^{2}P^o_{1/2}\\rangle}\\quad\\mathrm{|[Ar] 4s^{2} 4p^{5}\\;^{2}P^o_{3/2}\\rangle}]$"
      ],
      "text/plain": [
       "2-element Array{AtomicLevels.Level,1}:\n",
       " |[Ar] 4s² 4p⁵ ²Pᵒ₁₍₂₎〉\n",
       " |[Ar] 4s² 4p⁵ ²Pᵒ₃₍₂₎〉"
      ]
     },
     "execution_count": 8,
     "metadata": {},
     "output_type": "execute_result"
    }
   ],
   "source": [
    "levels(c)"
   ]
  },
  {
   "cell_type": "markdown",
   "metadata": {},
   "source": [
    "---\n",
    "# Simple tests\n",
    "\n",
    "## H I"
   ]
  },
  {
   "cell_type": "code",
   "execution_count": 9,
   "metadata": {
    "collapsed": false
   },
   "outputs": [
    {
     "data": {
      "text/latex": [
       "$\\mathrm{1s}$"
      ],
      "text/plain": [
       "1-element Array{Tuple{I<:Integer,I<:Integer,I<:Integer,S<:AbstractString},1}:\n",
       " 1s"
      ]
     },
     "execution_count": 9,
     "metadata": {},
     "output_type": "execute_result"
    }
   ],
   "source": [
    "c = c\"1s\""
   ]
  },
  {
   "cell_type": "code",
   "execution_count": 10,
   "metadata": {
    "collapsed": false
   },
   "outputs": [
    {
     "data": {
      "text/latex": [
       "$[\\mathrm{^{2}S}]$"
      ],
      "text/plain": [
       "1-element Array{AtomicLevels.Term,1}:\n",
       " ²S"
      ]
     },
     "execution_count": 10,
     "metadata": {},
     "output_type": "execute_result"
    }
   ],
   "source": [
    "terms(c)"
   ]
  },
  {
   "cell_type": "code",
   "execution_count": 11,
   "metadata": {
    "collapsed": false
   },
   "outputs": [
    {
     "data": {
      "text/latex": [
       "$[\\mathrm{|1s\\;^{2}S_{1/2}\\rangle}]$"
      ],
      "text/plain": [
       "1-element Array{AtomicLevels.Level,1}:\n",
       " |1s ²S₁₍₂₎〉"
      ]
     },
     "execution_count": 11,
     "metadata": {},
     "output_type": "execute_result"
    }
   ],
   "source": [
    "levels(c)"
   ]
  },
  {
   "cell_type": "markdown",
   "metadata": {},
   "source": [
    "---"
   ]
  },
  {
   "cell_type": "code",
   "execution_count": 12,
   "metadata": {
    "collapsed": false
   },
   "outputs": [],
   "source": [
    "type ConfigTest\n",
    "    c::Config\n",
    "end\n",
    "\n",
    "import Base.show\n",
    "function show(io::IO, m::MIME\"text/latex\", c::ConfigTest)\n",
    "    print(io, \"Config: \")\n",
    "    show(io, m, c.c)\n",
    "    print(io, \"\\$\\\\Rightarrow\\$ \")\n",
    "    print(io, \"terms: \")\n",
    "    show(io, m, terms(c.c))\n",
    "    print(io, \", levels: \")\n",
    "    show(io, m, levels(c.c))\n",
    "end\n",
    "nothing"
   ]
  },
  {
   "cell_type": "code",
   "execution_count": 13,
   "metadata": {
    "collapsed": false
   },
   "outputs": [
    {
     "data": {
      "text/latex": [
       "Config: $\\mathrm{2p}$$\\Rightarrow$ terms: $[\\mathrm{^{2}P^o}]$, levels: $[\\mathrm{|2p\\;^{2}P^o_{1/2}\\rangle}\\quad\\mathrm{|2p\\;^{2}P^o_{3/2}\\rangle}]$"
      ],
      "text/plain": [
       "ConfigTest(2p)"
      ]
     },
     "execution_count": 13,
     "metadata": {},
     "output_type": "execute_result"
    }
   ],
   "source": [
    "ConfigTest(c\"2p\")"
   ]
  },
  {
   "cell_type": "markdown",
   "metadata": {},
   "source": [
    "## He I"
   ]
  },
  {
   "cell_type": "code",
   "execution_count": 14,
   "metadata": {
    "collapsed": false
   },
   "outputs": [
    {
     "data": {
      "text/latex": [
       "Config: $\\mathrm{1s^{2}}$$\\Rightarrow$ terms: $[\\mathrm{^{1}S}]$, levels: $[\\mathrm{|1s^{2}\\;^{1}S_{0}\\rangle}]$"
      ],
      "text/plain": [
       "ConfigTest(1s²)"
      ]
     },
     "execution_count": 14,
     "metadata": {},
     "output_type": "execute_result"
    }
   ],
   "source": [
    "ConfigTest(c\"1s2\")"
   ]
  },
  {
   "cell_type": "code",
   "execution_count": 15,
   "metadata": {
    "collapsed": false
   },
   "outputs": [
    {
     "data": {
      "text/latex": [
       "Config: $\\mathrm{1s 2p}$$\\Rightarrow$ terms: $[\\mathrm{^{1}P^o}\\quad\\mathrm{^{3}P^o}]$, levels: $[\\mathrm{|1s 2p\\;^{1}P^o_{1}\\rangle}\\quad\\mathrm{|1s 2p\\;^{3}P^o_{0}\\rangle}\\quad\\mathrm{|1s 2p\\;^{3}P^o_{1}\\rangle}\\quad\\mathrm{|1s 2p\\;^{3}P^o_{2}\\rangle}]$"
      ],
      "text/plain": [
       "ConfigTest(1s 2p)"
      ]
     },
     "execution_count": 15,
     "metadata": {},
     "output_type": "execute_result"
    }
   ],
   "source": [
    "ConfigTest(c\"1s 2p\")"
   ]
  },
  {
   "cell_type": "code",
   "execution_count": 16,
   "metadata": {
    "collapsed": false
   },
   "outputs": [
    {
     "data": {
      "text/latex": [
       "Config: $\\mathrm{2p^{2}}$$\\Rightarrow$ terms: $[\\mathrm{^{1}S}\\quad\\mathrm{^{1}D}\\quad\\mathrm{^{3}P}]$, levels: $[\\mathrm{|2p^{2}\\;^{1}S_{0}\\rangle}\\quad\\mathrm{|2p^{2}\\;^{1}D_{2}\\rangle}\\quad\\mathrm{|2p^{2}\\;^{3}P_{0}\\rangle}\\quad\\mathrm{|2p^{2}\\;^{3}P_{1}\\rangle}\\quad\\mathrm{|2p^{2}\\;^{3}P_{2}\\rangle}]$"
      ],
      "text/plain": [
       "ConfigTest(2p²)"
      ]
     },
     "execution_count": 16,
     "metadata": {},
     "output_type": "execute_result"
    }
   ],
   "source": [
    "ConfigTest(c\"2p2\")"
   ]
  },
  {
   "cell_type": "markdown",
   "metadata": {},
   "source": [
    "## Li I"
   ]
  },
  {
   "cell_type": "code",
   "execution_count": 17,
   "metadata": {
    "collapsed": false
   },
   "outputs": [
    {
     "data": {
      "text/latex": [
       "Config: $\\mathrm{[He] 2p}$$\\Rightarrow$ terms: $[\\mathrm{^{2}P^o}]$, levels: $[\\mathrm{|[He] 2p\\;^{2}P^o_{1/2}\\rangle}\\quad\\mathrm{|[He] 2p\\;^{2}P^o_{3/2}\\rangle}]$"
      ],
      "text/plain": [
       "ConfigTest([He] 2p)"
      ]
     },
     "execution_count": 17,
     "metadata": {},
     "output_type": "execute_result"
    }
   ],
   "source": [
    "ConfigTest(c\"1s2 2p\")"
   ]
  },
  {
   "cell_type": "code",
   "execution_count": 18,
   "metadata": {
    "collapsed": false
   },
   "outputs": [
    {
     "data": {
      "text/latex": [
       "Config: $\\mathrm{1s 2p^{2}}$$\\Rightarrow$ terms: $[\\mathrm{^{2}S}\\quad\\mathrm{^{2}P}\\quad\\mathrm{^{2}D}\\quad\\mathrm{^{4}P}]$, levels: $[\\mathrm{|1s 2p^{2}\\;^{2}S_{1/2}\\rangle}\\quad\\mathrm{|1s 2p^{2}\\;^{2}P_{1/2}\\rangle}\\quad\\mathrm{|1s 2p^{2}\\;^{2}P_{3/2}\\rangle}\\quad\\mathrm{|1s 2p^{2}\\;^{2}D_{3/2}\\rangle}\\quad\\mathrm{|1s 2p^{2}\\;^{2}D_{5/2}\\rangle}\\quad\\mathrm{|1s 2p^{2}\\;^{4}P_{1/2}\\rangle}\\quad\\mathrm{|1s 2p^{2}\\;^{4}P_{3/2}\\rangle}\\quad\\mathrm{|1s 2p^{2}\\;^{4}P_{5/2}\\rangle}]$"
      ],
      "text/plain": [
       "ConfigTest(1s 2p²)"
      ]
     },
     "execution_count": 18,
     "metadata": {},
     "output_type": "execute_result"
    }
   ],
   "source": [
    "ConfigTest(c\"1s 2p2\")"
   ]
  },
  {
   "cell_type": "markdown",
   "metadata": {},
   "source": [
    "## B I"
   ]
  },
  {
   "cell_type": "code",
   "execution_count": 19,
   "metadata": {
    "collapsed": false
   },
   "outputs": [
    {
     "data": {
      "text/latex": [
       "Config: $\\mathrm{[He] 2s^{2} 2p}$$\\Rightarrow$ terms: $[\\mathrm{^{2}P^o}]$, levels: $[\\mathrm{|[He] 2s^{2} 2p\\;^{2}P^o_{1/2}\\rangle}\\quad\\mathrm{|[He] 2s^{2} 2p\\;^{2}P^o_{3/2}\\rangle}]$"
      ],
      "text/plain": [
       "ConfigTest([He] 2s² 2p)"
      ]
     },
     "execution_count": 19,
     "metadata": {},
     "output_type": "execute_result"
    }
   ],
   "source": [
    "ConfigTest(c\"1s2 2s2 2p1\")"
   ]
  },
  {
   "cell_type": "code",
   "execution_count": 20,
   "metadata": {
    "collapsed": false
   },
   "outputs": [
    {
     "data": {
      "text/latex": [
       "Config: $\\mathrm{3d^{5}}$$\\Rightarrow$ terms: $[\\mathrm{^{2}S}\\quad\\mathrm{^{2}P}\\quad\\mathrm{^{2}D}\\quad\\mathrm{^{2}D}\\quad\\mathrm{^{2}D}\\quad\\mathrm{^{2}F}\\quad\\mathrm{^{2}F}\\quad\\mathrm{^{2}G}\\quad\\mathrm{^{2}G}\\quad\\mathrm{^{2}H}\\quad\\mathrm{^{2}I}\\quad\\mathrm{^{4}P}\\quad\\mathrm{^{4}D}\\quad\\mathrm{^{4}F}\\quad\\mathrm{^{4}G}\\quad\\mathrm{^{6}S}]$, levels: $[\\mathrm{|3d^{5}\\;^{2}S_{1/2}\\rangle}\\quad\\mathrm{|3d^{5}\\;^{2}P_{1/2}\\rangle}\\quad\\mathrm{|3d^{5}\\;^{2}P_{3/2}\\rangle}\\quad\\mathrm{|3d^{5}\\;^{2}D_{3/2}\\rangle}\\quad\\mathrm{|3d^{5}\\;^{2}D_{3/2}\\rangle}\\quad\\mathrm{|3d^{5}\\;^{2}D_{3/2}\\rangle}\\quad\\mathrm{|3d^{5}\\;^{2}D_{5/2}\\rangle}\\quad\\mathrm{|3d^{5}\\;^{2}D_{5/2}\\rangle}\\quad\\mathrm{|3d^{5}\\;^{2}D_{5/2}\\rangle}\\quad\\mathrm{|3d^{5}\\;^{2}F_{5/2}\\rangle}\\quad\\mathrm{|3d^{5}\\;^{2}F_{5/2}\\rangle}\\quad\\mathrm{|3d^{5}\\;^{2}F_{7/2}\\rangle}\\quad\\mathrm{|3d^{5}\\;^{2}F_{7/2}\\rangle}\\quad\\mathrm{|3d^{5}\\;^{2}G_{7/2}\\rangle}\\quad\\mathrm{|3d^{5}\\;^{2}G_{7/2}\\rangle}\\quad\\mathrm{|3d^{5}\\;^{2}G_{9/2}\\rangle}\\quad\\mathrm{|3d^{5}\\;^{2}G_{9/2}\\rangle}\\quad\\mathrm{|3d^{5}\\;^{2}H_{9/2}\\rangle}\\quad\\mathrm{|3d^{5}\\;^{2}H_{11/2}\\rangle}\\quad\\mathrm{|3d^{5}\\;^{2}I_{11/2}\\rangle}\\quad\\mathrm{|3d^{5}\\;^{2}I_{13/2}\\rangle}\\quad\\mathrm{|3d^{5}\\;^{4}P_{1/2}\\rangle}\\quad\\mathrm{|3d^{5}\\;^{4}P_{3/2}\\rangle}\\quad\\mathrm{|3d^{5}\\;^{4}P_{5/2}\\rangle}\\quad\\mathrm{|3d^{5}\\;^{4}D_{1/2}\\rangle}\\quad\\mathrm{|3d^{5}\\;^{4}D_{3/2}\\rangle}\\quad\\mathrm{|3d^{5}\\;^{4}D_{5/2}\\rangle}\\quad\\mathrm{|3d^{5}\\;^{4}D_{7/2}\\rangle}\\quad\\mathrm{|3d^{5}\\;^{4}F_{3/2}\\rangle}\\quad\\mathrm{|3d^{5}\\;^{4}F_{5/2}\\rangle}\\quad\\mathrm{|3d^{5}\\;^{4}F_{7/2}\\rangle}\\quad\\mathrm{|3d^{5}\\;^{4}F_{9/2}\\rangle}\\quad\\mathrm{|3d^{5}\\;^{4}G_{5/2}\\rangle}\\quad\\mathrm{|3d^{5}\\;^{4}G_{7/2}\\rangle}\\quad\\mathrm{|3d^{5}\\;^{4}G_{9/2}\\rangle}\\quad\\mathrm{|3d^{5}\\;^{4}G_{11/2}\\rangle}\\quad\\mathrm{|3d^{5}\\;^{6}S_{5/2}\\rangle}]$"
      ],
      "text/plain": [
       "ConfigTest(3d⁵)"
      ]
     },
     "execution_count": 20,
     "metadata": {},
     "output_type": "execute_result"
    }
   ],
   "source": [
    "ConfigTest(c\"3d5\")"
   ]
  },
  {
   "cell_type": "markdown",
   "metadata": {},
   "source": [
    "---\n",
    "\n",
    "# Different representations\n",
    "\n",
    "We first define the configuration of the ground state of argon. The result will be interpreted as $\\LaTeX$ and rendered through MathJaX:"
   ]
  },
  {
   "cell_type": "code",
   "execution_count": 21,
   "metadata": {
    "collapsed": false
   },
   "outputs": [
    {
     "data": {
      "text/latex": [
       "$\\mathrm{[Ne]^{c} 3s^{2} 3p^{5}}$"
      ],
      "text/plain": [
       "5-element Array{Tuple{I<:Integer,I<:Integer,I<:Integer,S<:AbstractString},1}:\n",
       " 1s²ᶜ\n",
       " 2s²ᶜ\n",
       " 2p⁶ᶜ\n",
       " 3s² \n",
       " 3p⁵ "
      ]
     },
     "execution_count": 21,
     "metadata": {},
     "output_type": "execute_result"
    }
   ],
   "source": [
    "ar_II_conf = c\"[Ne] 3s2 3p5\""
   ]
  },
  {
   "cell_type": "markdown",
   "metadata": {},
   "source": [
    "With `println`, we get the Unicode string representation we would see on the terminal:"
   ]
  },
  {
   "cell_type": "code",
   "execution_count": 22,
   "metadata": {
    "collapsed": false
   },
   "outputs": [
    {
     "name": "stdout",
     "output_type": "stream",
     "text": [
      "[Ne]ᶜ 3s² 3p⁵\n"
     ]
    }
   ],
   "source": [
    "println(ar_II_conf)"
   ]
  },
  {
   "cell_type": "markdown",
   "metadata": {},
   "source": [
    "Finally, we can get the ASCII representation from `string`:"
   ]
  },
  {
   "cell_type": "code",
   "execution_count": 23,
   "metadata": {
    "collapsed": false
   },
   "outputs": [
    {
     "data": {
      "text/plain": [
       "\"Ne_c_3s2_3p5\""
      ]
     },
     "execution_count": 23,
     "metadata": {},
     "output_type": "execute_result"
    }
   ],
   "source": [
    "string(ar_II_conf)"
   ]
  },
  {
   "cell_type": "markdown",
   "metadata": {},
   "source": [
    "This also works for terms and levels:"
   ]
  },
  {
   "cell_type": "code",
   "execution_count": 24,
   "metadata": {
    "collapsed": false
   },
   "outputs": [
    {
     "data": {
      "text/latex": [
       "$\\mathrm{^{2}P^o}$"
      ],
      "text/plain": [
       "²Pᵒ"
      ]
     },
     "execution_count": 24,
     "metadata": {},
     "output_type": "execute_result"
    }
   ],
   "source": [
    "t = T\"2Po\""
   ]
  },
  {
   "cell_type": "code",
   "execution_count": 25,
   "metadata": {
    "collapsed": false
   },
   "outputs": [
    {
     "name": "stdout",
     "output_type": "stream",
     "text": [
      "²Pᵒ\n"
     ]
    }
   ],
   "source": [
    "println(t)"
   ]
  },
  {
   "cell_type": "code",
   "execution_count": 26,
   "metadata": {
    "collapsed": false
   },
   "outputs": [
    {
     "data": {
      "text/plain": [
       "\"2Po\""
      ]
     },
     "execution_count": 26,
     "metadata": {},
     "output_type": "execute_result"
    }
   ],
   "source": [
    "string(t)"
   ]
  },
  {
   "cell_type": "code",
   "execution_count": 27,
   "metadata": {
    "collapsed": false
   },
   "outputs": [
    {
     "data": {
      "text/latex": [
       "$[\\mathrm{|[Ne]^{c} 3s^{2} 3p^{5}\\;^{2}P^o_{1/2}\\rangle}\\quad\\mathrm{|[Ne]^{c} 3s^{2} 3p^{5}\\;^{2}P^o_{3/2}\\rangle}]$"
      ],
      "text/plain": [
       "2-element Array{AtomicLevels.Level,1}:\n",
       " |[Ne]ᶜ 3s² 3p⁵ ²Pᵒ₁₍₂₎〉\n",
       " |[Ne]ᶜ 3s² 3p⁵ ²Pᵒ₃₍₂₎〉"
      ]
     },
     "execution_count": 27,
     "metadata": {},
     "output_type": "execute_result"
    }
   ],
   "source": [
    "ls = levels(ar_II_conf)"
   ]
  },
  {
   "cell_type": "markdown",
   "metadata": {},
   "source": [
    "There is no Unicode character for subscript $/$, so fractions $a/b$ are rendered as $a(b)$:"
   ]
  },
  {
   "cell_type": "code",
   "execution_count": 28,
   "metadata": {
    "collapsed": false
   },
   "outputs": [
    {
     "name": "stdout",
     "output_type": "stream",
     "text": [
      "AtomicLevels.Level[|[Ne]ᶜ 3s² 3p⁵ ²Pᵒ₁₍₂₎〉,|[Ne]ᶜ 3s² 3p⁵ ²Pᵒ₃₍₂₎〉]\n"
     ]
    }
   ],
   "source": [
    "println(ls)"
   ]
  },
  {
   "cell_type": "code",
   "execution_count": 29,
   "metadata": {
    "collapsed": false
   },
   "outputs": [
    {
     "data": {
      "text/plain": [
       "2-element Array{String,1}:\n",
       " \"Ne_c_3s2_3p5_2Po0_5\"\n",
       " \"Ne_c_3s2_3p5_2Po1_5\""
      ]
     },
     "execution_count": 29,
     "metadata": {},
     "output_type": "execute_result"
    }
   ],
   "source": [
    "map(string, ls)"
   ]
  }
 ],
 "metadata": {
  "kernelspec": {
   "display_name": "Julia 0.5.1",
   "language": "julia",
   "name": "julia-0.5"
  },
  "language_info": {
   "file_extension": ".jl",
   "mimetype": "application/julia",
   "name": "julia",
   "version": "0.5.1"
  }
 },
 "nbformat": 4,
 "nbformat_minor": 0
}

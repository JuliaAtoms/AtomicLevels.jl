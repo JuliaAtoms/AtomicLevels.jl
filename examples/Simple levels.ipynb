{
 "cells": [
  {
   "cell_type": "code",
   "execution_count": 1,
   "metadata": {
    "collapsed": false
   },
   "outputs": [],
   "source": [
    "using AtomicLevels"
   ]
  },
  {
   "cell_type": "markdown",
   "metadata": {},
   "source": [
    "# H I"
   ]
  },
  {
   "cell_type": "code",
   "execution_count": 2,
   "metadata": {
    "collapsed": false
   },
   "outputs": [
    {
     "data": {
      "text/latex": [
       "$1\\mathrm{s}^{1}$"
      ],
      "text/plain": [
       "1-element Array{Tuple{I<:Integer,I<:Integer,I<:Integer,S<:AbstractString},1}:\n",
       " 1s"
      ]
     },
     "execution_count": 2,
     "metadata": {},
     "output_type": "execute_result"
    }
   ],
   "source": [
    "c = c\"1s\""
   ]
  },
  {
   "cell_type": "code",
   "execution_count": 3,
   "metadata": {
    "collapsed": false
   },
   "outputs": [
    {
     "data": {
      "text/latex": [
       "$[^{2}\\mathrm{S}]$"
      ],
      "text/plain": [
       "1-element Array{AtomicLevels.Term,1}:\n",
       " ²S"
      ]
     },
     "execution_count": 3,
     "metadata": {},
     "output_type": "execute_result"
    }
   ],
   "source": [
    "terms(c)"
   ]
  },
  {
   "cell_type": "code",
   "execution_count": 4,
   "metadata": {
    "collapsed": false
   },
   "outputs": [
    {
     "data": {
      "text/latex": [
       "$[|1\\mathrm{s}^{1}{\\;}^{2}\\mathrm{S}_{1/2}\\rangle]$"
      ],
      "text/plain": [
       "1-element Array{AtomicLevels.Level,1}:\n",
       " |1s ²S₁.₂〉"
      ]
     },
     "execution_count": 4,
     "metadata": {},
     "output_type": "execute_result"
    }
   ],
   "source": [
    "levels(c)"
   ]
  },
  {
   "cell_type": "markdown",
   "metadata": {},
   "source": [
    "---"
   ]
  },
  {
   "cell_type": "code",
   "execution_count": 5,
   "metadata": {
    "collapsed": false
   },
   "outputs": [],
   "source": [
    "type ConfigTest\n",
    "    c::Config\n",
    "end\n",
    "\n",
    "import Base.writemime\n",
    "function writemime(io::IO, m::MIME\"text/latex\", c::ConfigTest)\n",
    "    print(io, \"Config: \")\n",
    "    writemime(io, m, c.c)\n",
    "    print(io, \"\\$\\\\Rightarrow\\$ \")\n",
    "    print(io, \"terms: \")\n",
    "    writemime(io, m, terms(c.c))\n",
    "    print(io, \", levels: \")\n",
    "    writemime(io, m, levels(c.c))\n",
    "end\n",
    "nothing"
   ]
  },
  {
   "cell_type": "code",
   "execution_count": 6,
   "metadata": {
    "collapsed": false
   },
   "outputs": [
    {
     "data": {
      "text/latex": [
       "Config: $2\\mathrm{p}^{1}$$\\Rightarrow$ terms: $[^{2}\\mathrm{P}^{\\mathrm{o}}]$, levels: $[|2\\mathrm{p}^{1}{\\;}^{2}\\mathrm{P}^{\\mathrm{o}}_{1/2}\\rangle\\quad|2\\mathrm{p}^{1}{\\;}^{2}\\mathrm{P}^{\\mathrm{o}}_{3/2}\\rangle]$"
      ],
      "text/plain": [
       "ConfigTest(2p)"
      ]
     },
     "execution_count": 6,
     "metadata": {},
     "output_type": "execute_result"
    }
   ],
   "source": [
    "ConfigTest(c\"2p\")"
   ]
  },
  {
   "cell_type": "markdown",
   "metadata": {},
   "source": [
    "# He I"
   ]
  },
  {
   "cell_type": "code",
   "execution_count": 7,
   "metadata": {
    "collapsed": false
   },
   "outputs": [
    {
     "data": {
      "text/latex": [
       "Config: $1\\mathrm{s}^{2}$$\\Rightarrow$ terms: $[^{1}\\mathrm{S}]$, levels: $[|1\\mathrm{s}^{2}{\\;}^{1}\\mathrm{S}_{0}\\rangle]$"
      ],
      "text/plain": [
       "ConfigTest(1s²)"
      ]
     },
     "execution_count": 7,
     "metadata": {},
     "output_type": "execute_result"
    }
   ],
   "source": [
    "ConfigTest(c\"1s2\")"
   ]
  },
  {
   "cell_type": "code",
   "execution_count": 8,
   "metadata": {
    "collapsed": false
   },
   "outputs": [
    {
     "data": {
      "text/latex": [
       "Config: $1\\mathrm{s}^{1}2\\mathrm{p}^{1}$$\\Rightarrow$ terms: $[^{1}\\mathrm{P}^{\\mathrm{o}}\\quad^{3}\\mathrm{P}^{\\mathrm{o}}]$, levels: $[|1\\mathrm{s}^{1}2\\mathrm{p}^{1}{\\;}^{1}\\mathrm{P}^{\\mathrm{o}}_{1}\\rangle\\quad|1\\mathrm{s}^{1}2\\mathrm{p}^{1}{\\;}^{3}\\mathrm{P}^{\\mathrm{o}}_{0}\\rangle\\quad|1\\mathrm{s}^{1}2\\mathrm{p}^{1}{\\;}^{3}\\mathrm{P}^{\\mathrm{o}}_{1}\\rangle\\quad|1\\mathrm{s}^{1}2\\mathrm{p}^{1}{\\;}^{3}\\mathrm{P}^{\\mathrm{o}}_{2}\\rangle]$"
      ],
      "text/plain": [
       "ConfigTest(1s2p)"
      ]
     },
     "execution_count": 8,
     "metadata": {},
     "output_type": "execute_result"
    }
   ],
   "source": [
    "ConfigTest(c\"1s 2p\")"
   ]
  },
  {
   "cell_type": "code",
   "execution_count": 9,
   "metadata": {
    "collapsed": false
   },
   "outputs": [
    {
     "data": {
      "text/latex": [
       "Config: $2\\mathrm{p}^{2}$$\\Rightarrow$ terms: $[^{1}\\mathrm{S}\\quad^{1}\\mathrm{D}\\quad^{3}\\mathrm{P}]$, levels: $[|2\\mathrm{p}^{2}{\\;}^{1}\\mathrm{S}_{0}\\rangle\\quad|2\\mathrm{p}^{2}{\\;}^{1}\\mathrm{D}_{2}\\rangle\\quad|2\\mathrm{p}^{2}{\\;}^{3}\\mathrm{P}_{0}\\rangle\\quad|2\\mathrm{p}^{2}{\\;}^{3}\\mathrm{P}_{1}\\rangle\\quad|2\\mathrm{p}^{2}{\\;}^{3}\\mathrm{P}_{2}\\rangle]$"
      ],
      "text/plain": [
       "ConfigTest(2p²)"
      ]
     },
     "execution_count": 9,
     "metadata": {},
     "output_type": "execute_result"
    }
   ],
   "source": [
    "ConfigTest(c\"2p2\")"
   ]
  },
  {
   "cell_type": "markdown",
   "metadata": {},
   "source": [
    "# Li I"
   ]
  },
  {
   "cell_type": "code",
   "execution_count": 10,
   "metadata": {
    "collapsed": false
   },
   "outputs": [
    {
     "data": {
      "text/latex": [
       "Config: $1\\mathrm{s}^{2}2\\mathrm{p}^{1}$$\\Rightarrow$ terms: $[^{2}\\mathrm{P}^{\\mathrm{o}}]$, levels: $[|1\\mathrm{s}^{2}2\\mathrm{p}^{1}{\\;}^{2}\\mathrm{P}^{\\mathrm{o}}_{1/2}\\rangle\\quad|1\\mathrm{s}^{2}2\\mathrm{p}^{1}{\\;}^{2}\\mathrm{P}^{\\mathrm{o}}_{3/2}\\rangle]$"
      ],
      "text/plain": [
       "ConfigTest(1s²2p)"
      ]
     },
     "execution_count": 10,
     "metadata": {},
     "output_type": "execute_result"
    }
   ],
   "source": [
    "ConfigTest(c\"1s2 2p\")"
   ]
  },
  {
   "cell_type": "code",
   "execution_count": 11,
   "metadata": {
    "collapsed": false
   },
   "outputs": [
    {
     "data": {
      "text/latex": [
       "Config: $1\\mathrm{s}^{1}2\\mathrm{p}^{2}$$\\Rightarrow$ terms: $[^{2}\\mathrm{S}\\quad^{2}\\mathrm{P}\\quad^{2}\\mathrm{D}\\quad^{4}\\mathrm{P}]$, levels: $[|1\\mathrm{s}^{1}2\\mathrm{p}^{2}{\\;}^{2}\\mathrm{S}_{1/2}\\rangle\\quad|1\\mathrm{s}^{1}2\\mathrm{p}^{2}{\\;}^{2}\\mathrm{P}_{1/2}\\rangle\\quad|1\\mathrm{s}^{1}2\\mathrm{p}^{2}{\\;}^{2}\\mathrm{P}_{3/2}\\rangle\\quad|1\\mathrm{s}^{1}2\\mathrm{p}^{2}{\\;}^{2}\\mathrm{D}_{3/2}\\rangle\\quad|1\\mathrm{s}^{1}2\\mathrm{p}^{2}{\\;}^{2}\\mathrm{D}_{5/2}\\rangle\\quad|1\\mathrm{s}^{1}2\\mathrm{p}^{2}{\\;}^{4}\\mathrm{P}_{1/2}\\rangle\\quad|1\\mathrm{s}^{1}2\\mathrm{p}^{2}{\\;}^{4}\\mathrm{P}_{3/2}\\rangle\\quad|1\\mathrm{s}^{1}2\\mathrm{p}^{2}{\\;}^{4}\\mathrm{P}_{5/2}\\rangle]$"
      ],
      "text/plain": [
       "ConfigTest(1s2p²)"
      ]
     },
     "execution_count": 11,
     "metadata": {},
     "output_type": "execute_result"
    }
   ],
   "source": [
    "ConfigTest(c\"1s 2p2\")"
   ]
  },
  {
   "cell_type": "markdown",
   "metadata": {},
   "source": [
    "# B I"
   ]
  },
  {
   "cell_type": "code",
   "execution_count": 12,
   "metadata": {
    "collapsed": false
   },
   "outputs": [
    {
     "data": {
      "text/latex": [
       "Config: $1\\mathrm{s}^{2}2\\mathrm{s}^{2}2\\mathrm{p}^{1}$$\\Rightarrow$ terms: $[^{2}\\mathrm{P}^{\\mathrm{o}}]$, levels: $[|1\\mathrm{s}^{2}2\\mathrm{s}^{2}2\\mathrm{p}^{1}{\\;}^{2}\\mathrm{P}^{\\mathrm{o}}_{1/2}\\rangle\\quad|1\\mathrm{s}^{2}2\\mathrm{s}^{2}2\\mathrm{p}^{1}{\\;}^{2}\\mathrm{P}^{\\mathrm{o}}_{3/2}\\rangle]$"
      ],
      "text/plain": [
       "ConfigTest(1s²2s²2p)"
      ]
     },
     "execution_count": 12,
     "metadata": {},
     "output_type": "execute_result"
    }
   ],
   "source": [
    "ConfigTest(c\"1s2 2s2 2p1\")"
   ]
  },
  {
   "cell_type": "code",
   "execution_count": 13,
   "metadata": {
    "collapsed": false
   },
   "outputs": [
    {
     "data": {
      "text/latex": [
       "Config: $3\\mathrm{d}^{5}$$\\Rightarrow$ terms: $[^{2}\\mathrm{S}\\quad^{2}\\mathrm{P}\\quad^{2}\\mathrm{D}\\quad^{2}\\mathrm{F}\\quad^{2}\\mathrm{G}\\quad^{2}\\mathrm{H}\\quad^{2}\\mathrm{I}\\quad^{4}\\mathrm{P}\\quad^{4}\\mathrm{P}\\quad^{4}\\mathrm{D}\\quad^{4}\\mathrm{D}\\quad^{4}\\mathrm{F}\\quad^{4}\\mathrm{F}\\quad^{4}\\mathrm{G}\\quad^{4}\\mathrm{G}\\quad^{6}\\mathrm{S}]$, levels: $[|3\\mathrm{d}^{5}{\\;}^{2}\\mathrm{S}_{1/2}\\rangle\\quad|3\\mathrm{d}^{5}{\\;}^{2}\\mathrm{P}_{1/2}\\rangle\\quad|3\\mathrm{d}^{5}{\\;}^{2}\\mathrm{P}_{3/2}\\rangle\\quad|3\\mathrm{d}^{5}{\\;}^{2}\\mathrm{D}_{3/2}\\rangle\\quad|3\\mathrm{d}^{5}{\\;}^{2}\\mathrm{D}_{5/2}\\rangle\\quad|3\\mathrm{d}^{5}{\\;}^{2}\\mathrm{F}_{5/2}\\rangle\\quad|3\\mathrm{d}^{5}{\\;}^{2}\\mathrm{F}_{7/2}\\rangle\\quad|3\\mathrm{d}^{5}{\\;}^{2}\\mathrm{G}_{7/2}\\rangle\\quad|3\\mathrm{d}^{5}{\\;}^{2}\\mathrm{G}_{9/2}\\rangle\\quad|3\\mathrm{d}^{5}{\\;}^{2}\\mathrm{H}_{9/2}\\rangle\\quad|3\\mathrm{d}^{5}{\\;}^{2}\\mathrm{H}_{11/2}\\rangle\\quad|3\\mathrm{d}^{5}{\\;}^{2}\\mathrm{I}_{11/2}\\rangle\\quad|3\\mathrm{d}^{5}{\\;}^{2}\\mathrm{I}_{13/2}\\rangle\\quad|3\\mathrm{d}^{5}{\\;}^{4}\\mathrm{P}_{1/2}\\rangle\\quad|3\\mathrm{d}^{5}{\\;}^{4}\\mathrm{P}_{1/2}\\rangle\\quad|3\\mathrm{d}^{5}{\\;}^{4}\\mathrm{P}_{3/2}\\rangle\\quad|3\\mathrm{d}^{5}{\\;}^{4}\\mathrm{P}_{3/2}\\rangle\\quad|3\\mathrm{d}^{5}{\\;}^{4}\\mathrm{P}_{5/2}\\rangle\\quad|3\\mathrm{d}^{5}{\\;}^{4}\\mathrm{P}_{5/2}\\rangle\\quad|3\\mathrm{d}^{5}{\\;}^{4}\\mathrm{D}_{1/2}\\rangle\\quad|3\\mathrm{d}^{5}{\\;}^{4}\\mathrm{D}_{1/2}\\rangle\\quad|3\\mathrm{d}^{5}{\\;}^{4}\\mathrm{D}_{3/2}\\rangle\\quad|3\\mathrm{d}^{5}{\\;}^{4}\\mathrm{D}_{3/2}\\rangle\\quad|3\\mathrm{d}^{5}{\\;}^{4}\\mathrm{D}_{5/2}\\rangle\\quad|3\\mathrm{d}^{5}{\\;}^{4}\\mathrm{D}_{5/2}\\rangle\\quad|3\\mathrm{d}^{5}{\\;}^{4}\\mathrm{D}_{7/2}\\rangle\\quad|3\\mathrm{d}^{5}{\\;}^{4}\\mathrm{D}_{7/2}\\rangle\\quad|3\\mathrm{d}^{5}{\\;}^{4}\\mathrm{F}_{3/2}\\rangle\\quad|3\\mathrm{d}^{5}{\\;}^{4}\\mathrm{F}_{5/2}\\rangle\\quad|3\\mathrm{d}^{5}{\\;}^{4}\\mathrm{F}_{7/2}\\rangle\\quad|3\\mathrm{d}^{5}{\\;}^{4}\\mathrm{F}_{9/2}\\rangle\\quad|3\\mathrm{d}^{5}{\\;}^{4}\\mathrm{G}_{5/2}\\rangle\\quad|3\\mathrm{d}^{5}{\\;}^{4}\\mathrm{G}_{5/2}\\rangle\\quad|3\\mathrm{d}^{5}{\\;}^{4}\\mathrm{G}_{7/2}\\rangle\\quad|3\\mathrm{d}^{5}{\\;}^{4}\\mathrm{G}_{7/2}\\rangle\\quad|3\\mathrm{d}^{5}{\\;}^{4}\\mathrm{G}_{9/2}\\rangle\\quad|3\\mathrm{d}^{5}{\\;}^{4}\\mathrm{G}_{9/2}\\rangle\\quad|3\\mathrm{d}^{5}{\\;}^{4}\\mathrm{G}_{11/2}\\rangle\\quad|3\\mathrm{d}^{5}{\\;}^{4}\\mathrm{G}_{11/2}\\rangle\\quad|3\\mathrm{d}^{5}{\\;}^{6}\\mathrm{S}_{5/2}\\rangle]$"
      ],
      "text/plain": [
       "ConfigTest(3d⁵)"
      ]
     },
     "execution_count": 13,
     "metadata": {},
     "output_type": "execute_result"
    }
   ],
   "source": [
    "ConfigTest(c\"3d5\")"
   ]
  }
 ],
 "metadata": {
  "kernelspec": {
   "display_name": "Julia 0.4.3",
   "language": "julia",
   "name": "julia-0.4"
  },
  "language_info": {
   "file_extension": ".jl",
   "mimetype": "application/julia",
   "name": "julia",
   "version": "0.4.3"
  }
 },
 "nbformat": 4,
 "nbformat_minor": 0
}
